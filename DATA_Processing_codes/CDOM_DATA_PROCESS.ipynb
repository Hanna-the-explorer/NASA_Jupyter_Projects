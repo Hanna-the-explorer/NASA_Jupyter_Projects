{
 "cells": [
  {
   "cell_type": "code",
   "execution_count": null,
   "id": "82c8f1ba",
   "metadata": {},
   "outputs": [],
   "source": [
    "import pandas as pd #the csv reading library\n",
    "import matplotlib.pyplot as plt #the ploting library\n",
    "import glob #to get file names\n",
    "import scipy.optimize\n",
    "from scipy.optimize import curve_fit\n",
    "from scipy import interpolate\n",
    "from scipy.interpolate import pchip_interpolate\n",
    "import numpy as np"
   ]
  },
  {
   "cell_type": "code",
   "execution_count": null,
   "id": "67106db9",
   "metadata": {},
   "outputs": [],
   "source": [
    "# This returns a list of names (strings) of files that have the .txt extension. \n",
    "# You should provide the path\n",
    "files = glob.glob('../../../CDOM_DATA/BLU22/BC_ABS_BLU22_2226_GB/*.txt')"
   ]
  },
  {
   "cell_type": "code",
   "execution_count": null,
   "id": "0e778437",
   "metadata": {},
   "outputs": [],
   "source": [
    "#first Identify what wavegide was used then uncomment the correct waveguide \n",
    "X = .488 # 50 cm lwcc number 3 SN: "
   ]
  },
  {
   "cell_type": "code",
   "execution_count": null,
   "id": "afe6ca8a",
   "metadata": {},
   "outputs": [],
   "source": [
    "#SAMPLE OPENS FILES \n",
    "def open_file(name):\n",
    "    # returns a datafame from a raw file\n",
    "    # input: filename (string)\n",
    "    # output: pandas dataframe \n",
    "    df = pd.read_csv(name, skiprows=14, sep='\\t', names=['wl', 'abs'], )\n",
    "    return df"
   ]
  },
  {
   "cell_type": "code",
   "execution_count": null,
   "id": "a8fdefb2",
   "metadata": {},
   "outputs": [],
   "source": [
    "#SAMPLE ABS TRANSFORM AND BASLINE CORRECTION \n",
    "def abs_base_cor(name):\n",
    "    # unit conversion\n",
    "    df['abs'] = df['abs']*(2.303/X)\n",
    "    # baseline correction\n",
    "    bcorr = df[(df['wl']>=700) & (df['wl']<=750)]['abs'].mean() # a float\n",
    "    df['abs'] = df['abs'] - bcorr\n",
    "    return df"
   ]
  },
  {
   "cell_type": "code",
   "execution_count": null,
   "id": "f30f98aa",
   "metadata": {},
   "outputs": [],
   "source": [
    "#SAMPLE PCHIPS DATA INTO WHOLE WAVELENTHS \n",
    "def Pchip(name):\n",
    "    #PCHIP 1-D monotonic cubic interpolation.\n",
    "    #x and y are arrays of values used to approximate some function f, with y = f(x).\n",
    "    #The interpolant uses monotonic cubic splines to find the value of new points. \n",
    "    #PCHIP stands for Piecewise Cubic Hermite Interpolating Polynomial\n",
    "    x = df['wl']\n",
    "    y = df['abs']\n",
    "    #dose the interplation \n",
    "    pchip_obj1 = scipy.interpolate.PchipInterpolator(x, y, axis=0, extrapolate=None)\n",
    "    #pulls the wavelenths data point from the interplation \n",
    "    xi = np.arange(189,881,1)\n",
    "    #pulls the abs values from the wavelenths from the interplation\n",
    "    yi = pchip_obj1(xi)\n",
    "    #this turns it back into a dataframe \n",
    "    d = {'wl': xi, 'abs': yi}\n",
    "    df = pd.DataFrame(d)\n",
    "    return df"
   ]
  },
  {
   "cell_type": "code",
   "execution_count": null,
   "id": "48568529",
   "metadata": {},
   "outputs": [],
   "source": [
    "#FINAL FUNTION \n",
    "#see above for the breakdown of diff parts \n",
    "def GET_CDOM_DATA(name):\n",
    "    df = pd.read_csv(name, skiprows=14, sep='\\t', names=['wl', 'abs'], )\n",
    "    df['abs'] = df['abs']*(2.303/X)\n",
    "    bcorr = df[(df['wl']>=700) & (df['wl']<=750)]['abs'].mean() # a float\n",
    "    df['abs'] = df['abs'] - bcorr\n",
    "    x = df['wl']\n",
    "    y = df['abs'] \n",
    "    pchip_obj1 = scipy.interpolate.PchipInterpolator(x, y, axis=0, extrapolate=None)\n",
    "    xi = np.arange(189,881,1)\n",
    "    yi = pchip_obj1(xi)\n",
    "    d = {'wl': xi, 'abs': yi}\n",
    "    df = pd.DataFrame(d)\n",
    "    return df"
   ]
  },
  {
   "cell_type": "code",
   "execution_count": null,
   "id": "66a2821f",
   "metadata": {},
   "outputs": [],
   "source": [
    "#TEST FUNCTION \n",
    "GET_CDOM_DATA('../../../CDOM_DATA/BLU22/BC_ABS_BLU22_2226_GB/222601_Absorbance__0__00.txt')"
   ]
  },
  {
   "cell_type": "code",
   "execution_count": null,
   "id": "f6132a60",
   "metadata": {},
   "outputs": [],
   "source": [
    "for f in files:\n",
    "    df = GET_CDOM_DATA(f)\n",
    "    ID = f.split(\"\\\\\")[-1][0:-4]\n",
    "    \n"
   ]
  },
  {
   "cell_type": "markdown",
   "id": "446d184a",
   "metadata": {},
   "source": [
    "Ok... so here is the issue \n",
    "there are many scanns of the same sample \n",
    "after I do the data processing I need to average them by sample ID\n",
    "sample ID that is the six diget code in the file name \n",
    "then I need to export it to jordon \n",
    "\n",
    "so I need a col with the sample ID\n",
    "and I need a col with each waveleht and its abs value \n",
    "\n",
    "then I can move on to other forms of data proccesing... "
   ]
  },
  {
   "cell_type": "code",
   "execution_count": null,
   "id": "e5e24b76",
   "metadata": {},
   "outputs": [],
   "source": [
    "df = pd.read_csv(files[1], skiprows=14, names=['wl', 'abs'], sep='\\t')\n",
    "df['abs'] = df['abs']*(2.303/.488) #the denominator is spacific the the waveguide\n",
    "bcorr = df[(df['wl']>=700) & (df['wl']<=750)]['abs'].mean()\n",
    "df['abs'] = df['abs']-bcorr\n",
    "\n",
    "ID = files[1].split(\"\\\\\")[-1][-0][1:-4]\n",
    "df.rename({'abs': ID})\n",
    "\n",
    "ID"
   ]
  },
  {
   "cell_type": "code",
   "execution_count": null,
   "id": "e9fda3a0",
   "metadata": {},
   "outputs": [],
   "source": [
    "ID = f.split(\"\\\\\")[-1][0:-4]\n",
    "ID"
   ]
  },
  {
   "cell_type": "code",
   "execution_count": null,
   "id": "4e34f4e8",
   "metadata": {},
   "outputs": [],
   "source": [
    "#THIS IS A GRAPH OF ALL THE FILES ABSORPANCE\n",
    "#creates an empty list\n",
    "frames = []\n",
    "\n",
    "#loops through the list of names\n",
    "for f in files:\n",
    "    #opens file with above function\n",
    "    df = GET_CDOM_DATA(f)\n",
    "    # updates the list created above with the new dataframe\n",
    "    frames.append(df)\n",
    "#frames is a list of dataframes\n",
    "\n",
    "#concatenates all dataframes in one single dataframe\n",
    "full = pd.concat(frames, axis=1, ignore_index=False)\n",
    "\n",
    "full"
   ]
  },
  {
   "cell_type": "code",
   "execution_count": null,
   "id": "3145460d",
   "metadata": {},
   "outputs": [],
   "source": [
    "#SAMPLE RENAMES DATA FRAME FROM FILE NAME\n",
    "#DOSE NOT WORK \n",
    "def rename_data_frame(name):\n",
    "    ID = f.split(\"\\\\\")[-1][0:-4]\n",
    "    df.rename({ID})\n",
    "     return df"
   ]
  },
  {
   "cell_type": "code",
   "execution_count": null,
   "id": "824c1e9f",
   "metadata": {},
   "outputs": [],
   "source": [
    "#we too three scans of the samples, and we want to average the scanns \n",
    "#we will use the underscore in the file name to separete the averages \n",
    "# set the nummber to the approprate number of undercores in the same to seperate by the sample ID or Standterd \n",
    "\n",
    "sample = np.unique([f.split('_')[5] for f in files])\n",
    "sample"
   ]
  },
  {
   "cell_type": "code",
   "execution_count": null,
   "id": "dac15a20",
   "metadata": {},
   "outputs": [],
   "source": []
  }
 ],
 "metadata": {
  "kernelspec": {
   "display_name": "Python 3 (ipykernel)",
   "language": "python",
   "name": "python3"
  },
  "language_info": {
   "codemirror_mode": {
    "name": "ipython",
    "version": 3
   },
   "file_extension": ".py",
   "mimetype": "text/x-python",
   "name": "python",
   "nbconvert_exporter": "python",
   "pygments_lexer": "ipython3",
   "version": "3.10.2"
  }
 },
 "nbformat": 4,
 "nbformat_minor": 5
}
