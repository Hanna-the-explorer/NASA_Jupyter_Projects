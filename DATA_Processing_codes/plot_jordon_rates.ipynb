{
 "cells": [
  {
   "cell_type": "code",
   "execution_count": 45,
   "id": "55b532f7",
   "metadata": {},
   "outputs": [],
   "source": [
    "import matplotlib.pyplot as plt\n",
    "import pandas as pd\n",
    "import seaborn as sns\n",
    "sns.set_theme(style=\"ticks\")\n",
    "\n",
    "%matplotlib inline"
   ]
  },
  {
   "cell_type": "code",
   "execution_count": 46,
   "id": "58bcfd2d",
   "metadata": {},
   "outputs": [
    {
     "data": {
      "text/html": [
       "<div>\n",
       "<style scoped>\n",
       "    .dataframe tbody tr th:only-of-type {\n",
       "        vertical-align: middle;\n",
       "    }\n",
       "\n",
       "    .dataframe tbody tr th {\n",
       "        vertical-align: top;\n",
       "    }\n",
       "\n",
       "    .dataframe thead th {\n",
       "        text-align: right;\n",
       "    }\n",
       "</style>\n",
       "<table border=\"1\" class=\"dataframe\">\n",
       "  <thead>\n",
       "    <tr style=\"text-align: right;\">\n",
       "      <th></th>\n",
       "      <th>Unnamed: 0</th>\n",
       "      <th>Trip</th>\n",
       "      <th>Station</th>\n",
       "      <th>type</th>\n",
       "      <th>rate_per_day</th>\n",
       "      <th>rate_per_day_lo</th>\n",
       "      <th>rate_per_day_up</th>\n",
       "    </tr>\n",
       "  </thead>\n",
       "  <tbody>\n",
       "    <tr>\n",
       "      <th>0</th>\n",
       "      <td>1</td>\n",
       "      <td>GOM2021</td>\n",
       "      <td>St.13</td>\n",
       "      <td>DOC</td>\n",
       "      <td>NaN</td>\n",
       "      <td>NaN</td>\n",
       "      <td>NaN</td>\n",
       "    </tr>\n",
       "    <tr>\n",
       "      <th>1</th>\n",
       "      <td>2</td>\n",
       "      <td>GOM2021</td>\n",
       "      <td>St.15</td>\n",
       "      <td>DOC</td>\n",
       "      <td>NaN</td>\n",
       "      <td>NaN</td>\n",
       "      <td>NaN</td>\n",
       "    </tr>\n",
       "    <tr>\n",
       "      <th>2</th>\n",
       "      <td>3</td>\n",
       "      <td>GOM2021</td>\n",
       "      <td>St.16</td>\n",
       "      <td>DOC</td>\n",
       "      <td>NaN</td>\n",
       "      <td>NaN</td>\n",
       "      <td>NaN</td>\n",
       "    </tr>\n",
       "    <tr>\n",
       "      <th>3</th>\n",
       "      <td>4</td>\n",
       "      <td>GOM2021</td>\n",
       "      <td>St.2</td>\n",
       "      <td>DOC</td>\n",
       "      <td>NaN</td>\n",
       "      <td>NaN</td>\n",
       "      <td>NaN</td>\n",
       "    </tr>\n",
       "    <tr>\n",
       "      <th>4</th>\n",
       "      <td>5</td>\n",
       "      <td>GOM2021</td>\n",
       "      <td>St.4</td>\n",
       "      <td>DOC</td>\n",
       "      <td>NaN</td>\n",
       "      <td>NaN</td>\n",
       "      <td>NaN</td>\n",
       "    </tr>\n",
       "    <tr>\n",
       "      <th>...</th>\n",
       "      <td>...</td>\n",
       "      <td>...</td>\n",
       "      <td>...</td>\n",
       "      <td>...</td>\n",
       "      <td>...</td>\n",
       "      <td>...</td>\n",
       "      <td>...</td>\n",
       "    </tr>\n",
       "    <tr>\n",
       "      <th>151</th>\n",
       "      <td>152</td>\n",
       "      <td>GOM22SU</td>\n",
       "      <td>St.4</td>\n",
       "      <td>ss_350</td>\n",
       "      <td>0.002367</td>\n",
       "      <td>0.000162</td>\n",
       "      <td>0.004571</td>\n",
       "    </tr>\n",
       "    <tr>\n",
       "      <th>152</th>\n",
       "      <td>153</td>\n",
       "      <td>GOM22SU</td>\n",
       "      <td>St.5B</td>\n",
       "      <td>ss_350</td>\n",
       "      <td>0.000875</td>\n",
       "      <td>-0.001758</td>\n",
       "      <td>0.003508</td>\n",
       "    </tr>\n",
       "    <tr>\n",
       "      <th>153</th>\n",
       "      <td>154</td>\n",
       "      <td>GOM22SU</td>\n",
       "      <td>St.7</td>\n",
       "      <td>ss_350</td>\n",
       "      <td>0.004099</td>\n",
       "      <td>0.001720</td>\n",
       "      <td>0.006478</td>\n",
       "    </tr>\n",
       "    <tr>\n",
       "      <th>154</th>\n",
       "      <td>155</td>\n",
       "      <td>GOM22SU</td>\n",
       "      <td>St.9</td>\n",
       "      <td>ss_350</td>\n",
       "      <td>0.000513</td>\n",
       "      <td>-0.002890</td>\n",
       "      <td>0.003916</td>\n",
       "    </tr>\n",
       "    <tr>\n",
       "      <th>155</th>\n",
       "      <td>156</td>\n",
       "      <td>GOM22SU</td>\n",
       "      <td>St.MK</td>\n",
       "      <td>ss_350</td>\n",
       "      <td>-0.009673</td>\n",
       "      <td>-0.015676</td>\n",
       "      <td>-0.003670</td>\n",
       "    </tr>\n",
       "  </tbody>\n",
       "</table>\n",
       "<p>156 rows × 7 columns</p>\n",
       "</div>"
      ],
      "text/plain": [
       "     Unnamed: 0     Trip Station    type  rate_per_day  rate_per_day_lo  \\\n",
       "0             1  GOM2021   St.13     DOC           NaN              NaN   \n",
       "1             2  GOM2021   St.15     DOC           NaN              NaN   \n",
       "2             3  GOM2021   St.16     DOC           NaN              NaN   \n",
       "3             4  GOM2021    St.2     DOC           NaN              NaN   \n",
       "4             5  GOM2021    St.4     DOC           NaN              NaN   \n",
       "..          ...      ...     ...     ...           ...              ...   \n",
       "151         152  GOM22SU    St.4  ss_350      0.002367         0.000162   \n",
       "152         153  GOM22SU   St.5B  ss_350      0.000875        -0.001758   \n",
       "153         154  GOM22SU    St.7  ss_350      0.004099         0.001720   \n",
       "154         155  GOM22SU    St.9  ss_350      0.000513        -0.002890   \n",
       "155         156  GOM22SU   St.MK  ss_350     -0.009673        -0.015676   \n",
       "\n",
       "     rate_per_day_up  \n",
       "0                NaN  \n",
       "1                NaN  \n",
       "2                NaN  \n",
       "3                NaN  \n",
       "4                NaN  \n",
       "..               ...  \n",
       "151         0.004571  \n",
       "152         0.003508  \n",
       "153         0.006478  \n",
       "154         0.003916  \n",
       "155        -0.003670  \n",
       "\n",
       "[156 rows x 7 columns]"
      ]
     },
     "execution_count": 46,
     "metadata": {},
     "output_type": "execute_result"
    }
   ],
   "source": [
    "ds = pd.read_csv('../../../../Desktop/Jordon_pres/slopes_long.csv')\n",
    "ds"
   ]
  },
  {
   "cell_type": "code",
   "execution_count": 75,
   "id": "a4ed5163",
   "metadata": {},
   "outputs": [
    {
     "data": {
      "text/plain": [
       "array(['DOC', 'CDOM', 'ss_275', 'ss_350'], dtype=object)"
      ]
     },
     "execution_count": 75,
     "metadata": {},
     "output_type": "execute_result"
    }
   ],
   "source": [
    "ds.Station.unique()\n",
    "ds.Trip.unique()\n",
    "ds.type.unique()"
   ]
  },
  {
   "cell_type": "code",
   "execution_count": 48,
   "id": "8abed084",
   "metadata": {},
   "outputs": [
    {
     "data": {
      "image/png": "[encoded data removed]",
      "text/plain": [
       "<Figure size 432x288 with 1 Axes>"
      ]
     },
     "metadata": {
      "needs_background": "light"
     },
     "output_type": "display_data"
    }
   ],
   "source": [
    "ax = ds.plot.bar(x='type', y='rate_per_day', rot=0)"
   ]
  },
  {
   "cell_type": "code",
   "execution_count": 77,
   "id": "20b03c96",
   "metadata": {},
   "outputs": [
    {
     "data": {
      "text/html": [
       "<div>\n",
       "<style scoped>\n",
       "    .dataframe tbody tr th:only-of-type {\n",
       "        vertical-align: middle;\n",
       "    }\n",
       "\n",
       "    .dataframe tbody tr th {\n",
       "        vertical-align: top;\n",
       "    }\n",
       "\n",
       "    .dataframe thead th {\n",
       "        text-align: right;\n",
       "    }\n",
       "</style>\n",
       "<table border=\"1\" class=\"dataframe\">\n",
       "  <thead>\n",
       "    <tr style=\"text-align: right;\">\n",
       "      <th></th>\n",
       "      <th>Unnamed: 0</th>\n",
       "      <th>Trip</th>\n",
       "      <th>Station</th>\n",
       "      <th>type</th>\n",
       "      <th>rate_per_day</th>\n",
       "      <th>rate_per_day_lo</th>\n",
       "      <th>rate_per_day_up</th>\n",
       "    </tr>\n",
       "  </thead>\n",
       "  <tbody>\n",
       "    <tr>\n",
       "      <th>8</th>\n",
       "      <td>9</td>\n",
       "      <td>GOM21FA</td>\n",
       "      <td>St.11</td>\n",
       "      <td>DOC</td>\n",
       "      <td>0.0</td>\n",
       "      <td>0.0</td>\n",
       "      <td>0.0</td>\n",
       "    </tr>\n",
       "  </tbody>\n",
       "</table>\n",
       "</div>"
      ],
      "text/plain": [
       "   Unnamed: 0     Trip Station type  rate_per_day  rate_per_day_lo  \\\n",
       "8           9  GOM21FA   St.11  DOC           0.0              0.0   \n",
       "\n",
       "   rate_per_day_up  \n",
       "8              0.0  "
      ]
     },
     "execution_count": 77,
     "metadata": {},
     "output_type": "execute_result"
    }
   ],
   "source": [
    "subset"
   ]
  },
  {
   "cell_type": "code",
   "execution_count": 52,
   "id": "893e6d22",
   "metadata": {},
   "outputs": [
    {
     "data": {
      "image/png": "[encoded data removed]",
      "text/plain": [
       "<Figure size 432x288 with 1 Axes>"
      ]
     },
     "metadata": {
      "needs_background": "light"
     },
     "output_type": "display_data"
    }
   ],
   "source": [
    "ax = plt.bar('rate_per_day', 6)"
   ]
  },
  {
   "cell_type": "code",
   "execution_count": 85,
   "id": "86d26bc3",
   "metadata": {},
   "outputs": [
    {
     "data": {
      "text/html": [
       "<div>\n",
       "<style scoped>\n",
       "    .dataframe tbody tr th:only-of-type {\n",
       "        vertical-align: middle;\n",
       "    }\n",
       "\n",
       "    .dataframe tbody tr th {\n",
       "        vertical-align: top;\n",
       "    }\n",
       "\n",
       "    .dataframe thead th {\n",
       "        text-align: right;\n",
       "    }\n",
       "</style>\n",
       "<table border=\"1\" class=\"dataframe\">\n",
       "  <thead>\n",
       "    <tr style=\"text-align: right;\">\n",
       "      <th></th>\n",
       "      <th>Unnamed: 0</th>\n",
       "      <th>Trip</th>\n",
       "      <th>Station</th>\n",
       "      <th>type</th>\n",
       "      <th>rate_per_day</th>\n",
       "      <th>rate_per_day_lo</th>\n",
       "      <th>rate_per_day_up</th>\n",
       "    </tr>\n",
       "  </thead>\n",
       "  <tbody>\n",
       "    <tr>\n",
       "      <th>47</th>\n",
       "      <td>48</td>\n",
       "      <td>GOM21FA</td>\n",
       "      <td>St.11</td>\n",
       "      <td>CDOM</td>\n",
       "      <td>0.070812</td>\n",
       "      <td>0.030398</td>\n",
       "      <td>0.111225</td>\n",
       "    </tr>\n",
       "  </tbody>\n",
       "</table>\n",
       "</div>"
      ],
      "text/plain": [
       "    Unnamed: 0     Trip Station  type  rate_per_day  rate_per_day_lo  \\\n",
       "47          48  GOM21FA   St.11  CDOM      0.070812         0.030398   \n",
       "\n",
       "    rate_per_day_up  \n",
       "47         0.111225  "
      ]
     },
     "execution_count": 85,
     "metadata": {},
     "output_type": "execute_result"
    }
   ],
   "source": [
    "# Station = 'St.13'\n",
    "Trip = 'GOM21FA'\n",
    "Station = 'St.11'\n",
    "#Type = \"DOC\"\n",
    "Type = \"CDOM\"\n",
    "\n",
    "subset = ds[ds['Station']==Station]\n",
    "subset = subset[subset['Trip']==Trip]\n",
    "subset_c = subset[subset['type']==Type]\n",
    "\n",
    "#fig, ax = plt.subplots(1, 2, figsize=(8,8))\n",
    "#ax1.ds.plt.bar(x=0.000000, y='rate_per_day', rot=0)\n",
    "#ax2.ds.plt.bar(x='type', y='rate_per_day', rot=0)\n",
    "\n",
    "subset_c"
   ]
  },
  {
   "cell_type": "code",
   "execution_count": 79,
   "id": "1a7e8958",
   "metadata": {},
   "outputs": [
    {
     "ename": "IndexError",
     "evalue": "index 1 is out of bounds for axis 0 with size 1",
     "output_type": "error",
     "traceback": [
      "\u001b[1;31m---------------------------------------------------------------------------\u001b[0m",
      "\u001b[1;31mIndexError\u001b[0m                                Traceback (most recent call last)",
      "Input \u001b[1;32mIn [79]\u001b[0m, in \u001b[0;36m<module>\u001b[1;34m\u001b[0m\n\u001b[0;32m      1\u001b[0m axes \u001b[38;5;241m=\u001b[39m subset\u001b[38;5;241m.\u001b[39mplot\u001b[38;5;241m.\u001b[39mbar(x \u001b[38;5;241m=\u001b[39m \u001b[38;5;124m\"\u001b[39m\u001b[38;5;124mtype\u001b[39m\u001b[38;5;124m\"\u001b[39m, y\u001b[38;5;241m=\u001b[39m \u001b[38;5;124m\"\u001b[39m\u001b[38;5;124mrate_per_day\u001b[39m\u001b[38;5;124m\"\u001b[39m, rot\u001b[38;5;241m=\u001b[39m\u001b[38;5;241m0\u001b[39m, subplots\u001b[38;5;241m=\u001b[39m\u001b[38;5;28;01mTrue\u001b[39;00m)\n\u001b[1;32m----> 2\u001b[0m \u001b[43maxes\u001b[49m\u001b[43m[\u001b[49m\u001b[38;5;241;43m1\u001b[39;49m\u001b[43m]\u001b[49m\u001b[38;5;241m.\u001b[39mlegend(loc\u001b[38;5;241m=\u001b[39m\u001b[38;5;241m0\u001b[39m)\n",
      "\u001b[1;31mIndexError\u001b[0m: index 1 is out of bounds for axis 0 with size 1"
     ]
    },
    {
     "data": {
      "image/png": "[encoded data removed]",
      "text/plain": [
       "<Figure size 432x288 with 1 Axes>"
      ]
     },
     "metadata": {
      "needs_background": "light"
     },
     "output_type": "display_data"
    }
   ],
   "source": [
    "axes = subset.plot.bar(x = \"type\", y= \"rate_per_day\", rot=0, subplots=True)\n",
    "axes[1].legend(loc=0)  \n",
    "#axes[2].legend(loc=1) "
   ]
  },
  {
   "cell_type": "code",
   "execution_count": 86,
   "id": "c3df4f61",
   "metadata": {},
   "outputs": [
    {
     "data": {
      "text/plain": [
       "array([<AxesSubplot:title={'center':'rate_per_day'}, xlabel='type'>],\n",
       "      dtype=object)"
      ]
     },
     "execution_count": 86,
     "metadata": {},
     "output_type": "execute_result"
    },
    {
     "data": {
      "image/png": "[encoded data removed]",
      "text/plain": [
       "<Figure size 432x288 with 1 Axes>"
      ]
     },
     "metadata": {
      "needs_background": "light"
     },
     "output_type": "display_data"
    }
   ],
   "source": [
    "subset_c.plot.bar(x = \"type\", y= \"rate_per_day\", rot=0, subplots=True)\n"
   ]
  },
  {
   "cell_type": "code",
   "execution_count": 81,
   "id": "95e3b0ff",
   "metadata": {},
   "outputs": [
    {
     "data": {
      "text/html": [
       "<div>\n",
       "<style scoped>\n",
       "    .dataframe tbody tr th:only-of-type {\n",
       "        vertical-align: middle;\n",
       "    }\n",
       "\n",
       "    .dataframe tbody tr th {\n",
       "        vertical-align: top;\n",
       "    }\n",
       "\n",
       "    .dataframe thead th {\n",
       "        text-align: right;\n",
       "    }\n",
       "</style>\n",
       "<table border=\"1\" class=\"dataframe\">\n",
       "  <thead>\n",
       "    <tr style=\"text-align: right;\">\n",
       "      <th></th>\n",
       "      <th>Unnamed: 0</th>\n",
       "      <th>Trip</th>\n",
       "      <th>Station</th>\n",
       "      <th>type</th>\n",
       "      <th>rate_per_day</th>\n",
       "      <th>rate_per_day_lo</th>\n",
       "      <th>rate_per_day_up</th>\n",
       "    </tr>\n",
       "  </thead>\n",
       "  <tbody>\n",
       "    <tr>\n",
       "      <th>8</th>\n",
       "      <td>9</td>\n",
       "      <td>GOM21FA</td>\n",
       "      <td>St.11</td>\n",
       "      <td>DOC</td>\n",
       "      <td>0.0</td>\n",
       "      <td>0.0</td>\n",
       "      <td>0.0</td>\n",
       "    </tr>\n",
       "  </tbody>\n",
       "</table>\n",
       "</div>"
      ],
      "text/plain": [
       "   Unnamed: 0     Trip Station type  rate_per_day  rate_per_day_lo  \\\n",
       "8           9  GOM21FA   St.11  DOC           0.0              0.0   \n",
       "\n",
       "   rate_per_day_up  \n",
       "8              0.0  "
      ]
     },
     "execution_count": 81,
     "metadata": {},
     "output_type": "execute_result"
    }
   ],
   "source": [
    "subset"
   ]
  },
  {
   "cell_type": "code",
   "execution_count": 14,
   "id": "960279e8",
   "metadata": {},
   "outputs": [
    {
     "data": {
      "text/plain": [
       "(0.0, 500.0)"
      ]
     },
     "execution_count": 14,
     "metadata": {},
     "output_type": "execute_result"
    },
    {
     "data": {
      "image/png": "[encoded data removed]",
      "text/plain": [
       "<Figure size 576x720 with 2 Axes>"
      ]
     },
     "metadata": {},
     "output_type": "display_data"
    }
   ],
   "source": [
    "fig, ax = plt.subplots(figsize=(8,10))\n",
    "\n",
    "station = 'Stn 14'\n",
    "\n",
    "subset = ds[ds['Location']==station].sort_values('Depth (mm)')\n",
    "\n",
    "ax.plot(subset['Fe2 Conc (uM)'], subset['Depth (mm)'], c='b')\n",
    "ax.set_ylim(350, 0)\n",
    "ax.set_xlim(0,7)\n",
    "ax.set_ylabel('Depth [mm]', size=20)\n",
    "ax.set_xlabel('Fe2 Conc (uM)', color='b', size=20)\n",
    "\n",
    "newax = ax.twiny()\n",
    "\n",
    "newax.plot(subset['a350'].values, subset['Depth (mm)'].values,\n",
    "        'o', ls='-', c='r')\n",
    "\n",
    "newax.set_frame_on(True)\n",
    "newax.patch.set_visible(False)\n",
    "\n",
    "\n",
    "ax.xaxis.set_ticks_position('top')\n",
    "ax.xaxis.set_label_position('top') \n",
    "\n",
    "newax.xaxis.set_ticks_position('top')\n",
    "newax.xaxis.set_label_position('top')\n",
    "newax.spines['top'].set_position(('outward', 50))\n",
    "newax.set_xlabel('a350', color='r', size=20)\n",
    "newax.set_xlim(0,500)\n",
    "\n",
    "# # Make some room at the bottom\n",
    "# fig.subplots_adjust(bottom=0.20)\n",
    "\n",
    "# I'm guessing you want them both on the bottom..."
   ]
  },
  {
   "cell_type": "code",
   "execution_count": 8,
   "id": "651855fb",
   "metadata": {},
   "outputs": [],
   "source": [
    "import seaborn as sns\n",
    "sns.set_theme(style=\"ticks\")"
   ]
  },
  {
   "cell_type": "code",
   "execution_count": null,
   "id": "24633203",
   "metadata": {},
   "outputs": [],
   "source": [
    "fig, axes = plt.subplots(3, 2, figsize=(8,8), sharey=True, sharex=True)\n",
    "axes[1,1].plot(subset['Fe2 Conc (uM)'], subset['Depth (mm)'])\n",
    "axes[0,0].set_label('Depth [mm]')"
   ]
  },
  {
   "cell_type": "code",
   "execution_count": null,
   "id": "99e48b7c",
   "metadata": {},
   "outputs": [],
   "source": []
  }
 ],
 "metadata": {
  "kernelspec": {
   "display_name": "Python 3 (ipykernel)",
   "language": "python",
   "name": "python3"
  },
  "language_info": {
   "codemirror_mode": {
    "name": "ipython",
    "version": 3
   },
   "file_extension": ".py",
   "mimetype": "text/x-python",
   "name": "python",
   "nbconvert_exporter": "python",
   "pygments_lexer": "ipython3",
   "version": "3.10.2"
  }
 },
 "nbformat": 4,
 "nbformat_minor": 5
}
