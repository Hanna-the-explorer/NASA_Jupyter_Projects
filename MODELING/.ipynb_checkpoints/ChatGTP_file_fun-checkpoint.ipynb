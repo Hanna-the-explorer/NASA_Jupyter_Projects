{
 "cells": [
  {
   "cell_type": "code",
   "execution_count": 1,
   "id": "57c5bc58",
   "metadata": {},
   "outputs": [
    {
     "ename": "FileNotFoundError",
     "evalue": "[Errno 2] No such file or directory: b'TXLA_grd.nc'",
     "output_type": "error",
     "traceback": [
      "\u001b[1;31m---------------------------------------------------------------------------\u001b[0m",
      "\u001b[1;31mFileNotFoundError\u001b[0m                         Traceback (most recent call last)",
      "Input \u001b[1;32mIn [1]\u001b[0m, in \u001b[0;36m<module>\u001b[1;34m\u001b[0m\n\u001b[0;32m      9\u001b[0m dye_time_units \u001b[38;5;241m=\u001b[39m \u001b[38;5;124m'\u001b[39m\u001b[38;5;124mseconds since \u001b[39m\u001b[38;5;124m'\u001b[39m \u001b[38;5;241m+\u001b[39m start_date\u001b[38;5;241m.\u001b[39mstrftime(\u001b[38;5;124m'\u001b[39m\u001b[38;5;124m%\u001b[39m\u001b[38;5;124mY-\u001b[39m\u001b[38;5;124m%\u001b[39m\u001b[38;5;124mm-\u001b[39m\u001b[38;5;132;01m%d\u001b[39;00m\u001b[38;5;124m \u001b[39m\u001b[38;5;124m%\u001b[39m\u001b[38;5;124mH:\u001b[39m\u001b[38;5;124m%\u001b[39m\u001b[38;5;124mM:\u001b[39m\u001b[38;5;124m%\u001b[39m\u001b[38;5;124mS\u001b[39m\u001b[38;5;124m'\u001b[39m)\n\u001b[0;32m     11\u001b[0m \u001b[38;5;66;03m# Load the ROMS grid information\u001b[39;00m\n\u001b[1;32m---> 12\u001b[0m grid \u001b[38;5;241m=\u001b[39m \u001b[43mnetCDF4\u001b[49m\u001b[38;5;241;43m.\u001b[39;49m\u001b[43mDataset\u001b[49m\u001b[43m(\u001b[49m\u001b[38;5;124;43m'\u001b[39;49m\u001b[38;5;124;43mTXLA_grd.nc\u001b[39;49m\u001b[38;5;124;43m'\u001b[39;49m\u001b[43m)\u001b[49m\n\u001b[0;32m     13\u001b[0m lat_rho \u001b[38;5;241m=\u001b[39m grid\u001b[38;5;241m.\u001b[39mvariables[\u001b[38;5;124m'\u001b[39m\u001b[38;5;124mlat_rho\u001b[39m\u001b[38;5;124m'\u001b[39m][:]\n\u001b[0;32m     14\u001b[0m lon_rho \u001b[38;5;241m=\u001b[39m grid\u001b[38;5;241m.\u001b[39mvariables[\u001b[38;5;124m'\u001b[39m\u001b[38;5;124mlon_rho\u001b[39m\u001b[38;5;124m'\u001b[39m][:]\n",
      "File \u001b[1;32msrc\\netCDF4\\_netCDF4.pyx:2307\u001b[0m, in \u001b[0;36mnetCDF4._netCDF4.Dataset.__init__\u001b[1;34m()\u001b[0m\n",
      "File \u001b[1;32msrc\\netCDF4\\_netCDF4.pyx:1925\u001b[0m, in \u001b[0;36mnetCDF4._netCDF4._ensure_nc_success\u001b[1;34m()\u001b[0m\n",
      "\u001b[1;31mFileNotFoundError\u001b[0m: [Errno 2] No such file or directory: b'TXLA_grd.nc'"
     ]
    }
   ],
   "source": [
    "import netCDF4\n",
    "import numpy as np\n",
    "from datetime import datetime, timedelta\n",
    "\n",
    "# Define the time variables\n",
    "start_date = datetime(2019, 7, 1)\n",
    "num_days = 31\n",
    "dye_time = np.arange(0, num_days * 86400, 900)\n",
    "dye_time_units = 'seconds since ' + start_date.strftime('%Y-%m-%d %H:%M:%S')\n",
    "\n",
    "# Load the ROMS grid information\n",
    "grid = netCDF4.Dataset('TXLA_grd.nc')\n",
    "lat_rho = grid.variables['lat_rho'][:]\n",
    "lon_rho = grid.variables['lon_rho'][:]\n",
    "\n",
    "# Define the dye concentration values\n",
    "dye_conc = np.zeros((len(dye_time), grid.dimensions['s_rho'].size,\n",
    "                     grid.dimensions['eta_rho'].size, grid.dimensions['xi_rho'].size))\n",
    "\n",
    "# Calculate the indices of the grid cell nearest to the specified location\n",
    "lat_idx = np.argmin(np.abs(lat_rho[:, 0] - 28.852141))\n",
    "lon_idx = np.argmin(np.abs(lon_rho[0, :] - -92.814206))\n",
    "\n",
    "# Set the dye concentration values for the specified location\n",
    "dye_conc[:, :, lat_idx, lon_idx] = 1.0\n",
    "\n",
    "# Create the forcing file and write the variables\n",
    "forcing_file = netCDF4.Dataset('dye_forcing.nc', 'w', format='NETCDF4')\n",
    "\n",
    "forcing_file.createDimension('xi_rho', grid.dimensions['xi_rho'].size)\n",
    "forcing_file.createDimension('eta_rho', grid.dimensions['eta_rho'].size)\n",
    "forcing_file.createDimension('s_rho', grid.dimensions['s_rho'].size)\n",
    "forcing_file.createDimension('time', None)\n",
    "\n",
    "lon_rho_var = forcing_file.createVariable('lon_rho', 'f8', ('eta_rho', 'xi_rho'))\n",
    "lat_rho_var = forcing_file.createVariable('lat_rho', 'f8', ('eta_rho', 'xi_rho'))\n",
    "dye_time_var = forcing_file.createVariable('dye_time', 'f8', ('time',))\n",
    "dye_conc_var = forcing_file.createVariable('dye_conc', 'f8',\n",
    "                                           ('time', 's_rho', 'eta_rho', 'xi_rho'),\n",
    "                                           fill_value=-9999.0)\n",
    "\n",
    "lon_rho_var[:] = lon_rho\n",
    "lat_rho_var[:] = lat_rho\n",
    "dye_time_var[:] = dye_time\n",
    "dye_time_var.units = dye_time_units\n",
    "dye_conc_var[:] = dye_conc\n",
    "\n",
    "forcing_file.close()\n"
   ]
  }
 ],
 "metadata": {
  "kernelspec": {
   "display_name": "Python 3 (ipykernel)",
   "language": "python",
   "name": "python3"
  },
  "language_info": {
   "codemirror_mode": {
    "name": "ipython",
    "version": 3
   },
   "file_extension": ".py",
   "mimetype": "text/x-python",
   "name": "python",
   "nbconvert_exporter": "python",
   "pygments_lexer": "ipython3",
   "version": "3.10.2"
  }
 },
 "nbformat": 4,
 "nbformat_minor": 5
}
