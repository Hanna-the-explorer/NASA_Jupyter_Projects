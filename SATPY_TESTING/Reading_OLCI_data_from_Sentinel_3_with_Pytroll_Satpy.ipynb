{
 "cells": [
  {
   "cell_type": "code",
   "execution_count": 13,
   "id": "2a85143b",
   "metadata": {},
   "outputs": [],
   "source": [
    "from datetime import datetime\n",
    "from satpy import Scene, find_files_and_readers"
   ]
  },
  {
   "cell_type": "code",
   "execution_count": 17,
   "id": "64cfc62c",
   "metadata": {},
   "outputs": [
    {
     "ename": "ValueError",
     "evalue": "No reader named: nc_olci_l1b",
     "output_type": "error",
     "traceback": [
      "\u001b[1;31m---------------------------------------------------------------------------\u001b[0m",
      "\u001b[1;31mValueError\u001b[0m                                Traceback (most recent call last)",
      "Input \u001b[1;32mIn [17]\u001b[0m, in \u001b[0;36m<module>\u001b[1;34m\u001b[0m\n\u001b[1;32m----> 1\u001b[0m files \u001b[38;5;241m=\u001b[39m \u001b[43mfind_files_and_readers\u001b[49m\u001b[43m(\u001b[49m\u001b[43msensor\u001b[49m\u001b[38;5;241;43m=\u001b[39;49m\u001b[38;5;124;43m'\u001b[39;49m\u001b[38;5;124;43molci\u001b[39;49m\u001b[38;5;124;43m'\u001b[39;49m\u001b[43m,\u001b[49m\n\u001b[0;32m      2\u001b[0m \u001b[43m                               \u001b[49m\u001b[43mstart_time\u001b[49m\u001b[38;5;241;43m=\u001b[39;49m\u001b[43mdatetime\u001b[49m\u001b[43m(\u001b[49m\u001b[38;5;241;43m2022\u001b[39;49m\u001b[43m,\u001b[49m\u001b[43m \u001b[49m\u001b[38;5;241;43m4\u001b[39;49m\u001b[43m,\u001b[49m\u001b[43m \u001b[49m\u001b[38;5;241;43m29\u001b[39;49m\u001b[43m,\u001b[49m\u001b[43m \u001b[49m\u001b[38;5;241;43m8\u001b[39;49m\u001b[43m,\u001b[49m\u001b[43m \u001b[49m\u001b[38;5;241;43m26\u001b[39;49m\u001b[43m)\u001b[49m\u001b[43m,\u001b[49m\n\u001b[0;32m      3\u001b[0m \u001b[43m                               \u001b[49m\u001b[43mend_time\u001b[49m\u001b[38;5;241;43m=\u001b[39;49m\u001b[43mdatetime\u001b[49m\u001b[43m(\u001b[49m\u001b[38;5;241;43m2022\u001b[39;49m\u001b[43m,\u001b[49m\u001b[43m \u001b[49m\u001b[38;5;241;43m4\u001b[39;49m\u001b[43m,\u001b[49m\u001b[43m \u001b[49m\u001b[38;5;241;43m29\u001b[39;49m\u001b[43m,\u001b[49m\u001b[43m \u001b[49m\u001b[38;5;241;43m8\u001b[39;49m\u001b[43m,\u001b[49m\u001b[43m \u001b[49m\u001b[38;5;241;43m27\u001b[39;49m\u001b[43m)\u001b[49m\u001b[43m,\u001b[49m\n\u001b[0;32m      4\u001b[0m \u001b[43m                               \u001b[49m\u001b[43mbase_dir\u001b[49m\u001b[38;5;241;43m=\u001b[39;49m\u001b[38;5;124;43m\"\u001b[39;49m\u001b[38;5;124;43m../SAT_DATA/SEN_L1_MAR_17/\u001b[39;49m\u001b[38;5;124;43m\"\u001b[39;49m\u001b[43m,\u001b[49m\n\u001b[0;32m      5\u001b[0m \u001b[43m                               \u001b[49m\u001b[43mreader\u001b[49m\u001b[38;5;241;43m=\u001b[39;49m\u001b[38;5;124;43m'\u001b[39;49m\u001b[38;5;124;43mnc_olci_l1b\u001b[39;49m\u001b[38;5;124;43m'\u001b[39;49m\u001b[43m)\u001b[49m\n\u001b[0;32m      7\u001b[0m scn \u001b[38;5;241m=\u001b[39m Scene(filenames\u001b[38;5;241m=\u001b[39mfiles)\n",
      "File \u001b[1;32m~\\miniconda3\\envs\\Bugs\\lib\\site-packages\\satpy\\readers\\__init__.py:472\u001b[0m, in \u001b[0;36mfind_files_and_readers\u001b[1;34m(start_time, end_time, base_dir, reader, sensor, filter_parameters, reader_kwargs, missing_ok, fs)\u001b[0m\n\u001b[0;32m    469\u001b[0m     filter_parameters[\u001b[38;5;124m'\u001b[39m\u001b[38;5;124mend_time\u001b[39m\u001b[38;5;124m'\u001b[39m] \u001b[38;5;241m=\u001b[39m end_time\n\u001b[0;32m    470\u001b[0m reader_kwargs[\u001b[38;5;124m'\u001b[39m\u001b[38;5;124mfilter_parameters\u001b[39m\u001b[38;5;124m'\u001b[39m] \u001b[38;5;241m=\u001b[39m filter_parameters\n\u001b[1;32m--> 472\u001b[0m \u001b[38;5;28;01mfor\u001b[39;00m reader_configs \u001b[38;5;129;01min\u001b[39;00m configs_for_reader(reader):\n\u001b[0;32m    473\u001b[0m     (reader_instance, loadables, this_sensor_supported) \u001b[38;5;241m=\u001b[39m _get_loadables_for_reader_config(\n\u001b[0;32m    474\u001b[0m             base_dir, reader, sensor, reader_configs, reader_kwargs, fs)\n\u001b[0;32m    475\u001b[0m     sensor_supported \u001b[38;5;241m=\u001b[39m sensor_supported \u001b[38;5;129;01mor\u001b[39;00m this_sensor_supported\n",
      "File \u001b[1;32m~\\miniconda3\\envs\\Bugs\\lib\\site-packages\\satpy\\readers\\__init__.py:343\u001b[0m, in \u001b[0;36mconfigs_for_reader\u001b[1;34m(reader)\u001b[0m\n\u001b[0;32m    337\u001b[0m reader_configs \u001b[38;5;241m=\u001b[39m config_search_paths(\n\u001b[0;32m    338\u001b[0m     os\u001b[38;5;241m.\u001b[39mpath\u001b[38;5;241m.\u001b[39mjoin(\u001b[38;5;124m\"\u001b[39m\u001b[38;5;124mreaders\u001b[39m\u001b[38;5;124m\"\u001b[39m, config_basename))\n\u001b[0;32m    340\u001b[0m \u001b[38;5;28;01mif\u001b[39;00m \u001b[38;5;129;01mnot\u001b[39;00m reader_configs:\n\u001b[0;32m    341\u001b[0m     \u001b[38;5;66;03m# either the reader they asked for does not exist\u001b[39;00m\n\u001b[0;32m    342\u001b[0m     \u001b[38;5;66;03m# or satpy is improperly configured and can't find its own readers\u001b[39;00m\n\u001b[1;32m--> 343\u001b[0m     \u001b[38;5;28;01mraise\u001b[39;00m \u001b[38;5;167;01mValueError\u001b[39;00m(\u001b[38;5;124m\"\u001b[39m\u001b[38;5;124mNo reader named: \u001b[39m\u001b[38;5;132;01m{}\u001b[39;00m\u001b[38;5;124m\"\u001b[39m\u001b[38;5;241m.\u001b[39mformat(reader_name))\n\u001b[0;32m    345\u001b[0m \u001b[38;5;28;01myield\u001b[39;00m reader_configs\n",
      "\u001b[1;31mValueError\u001b[0m: No reader named: nc_olci_l1b"
     ]
    }
   ],
   "source": [
    "files = find_files_and_readers(sensor='olci',\n",
    "                               start_time=datetime(2022, 4, 29, 8, 26),\n",
    "                               end_time=datetime(2022, 4, 29, 8, 27),\n",
    "                               base_dir=\"../SAT_DATA/SEN_L1_MAR_17/\",\n",
    "                               reader='nc_olci_l1b')\n",
    "\n",
    "scn = Scene(filenames=files)\n",
    "\n",
    "#A2022048191500"
   ]
  },
  {
   "cell_type": "code",
   "execution_count": null,
   "id": "6db9279d",
   "metadata": {},
   "outputs": [],
   "source": []
  }
 ],
 "metadata": {
  "kernelspec": {
   "display_name": "Python 3 (ipykernel)",
   "language": "python",
   "name": "python3"
  },
  "language_info": {
   "codemirror_mode": {
    "name": "ipython",
    "version": 3
   },
   "file_extension": ".py",
   "mimetype": "text/x-python",
   "name": "python",
   "nbconvert_exporter": "python",
   "pygments_lexer": "ipython3",
   "version": "3.10.2"
  }
 },
 "nbformat": 4,
 "nbformat_minor": 5
}
