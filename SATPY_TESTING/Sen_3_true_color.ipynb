{
 "cells": [
  {
   "cell_type": "code",
   "execution_count": 1,
   "id": "3d56006e",
   "metadata": {},
   "outputs": [],
   "source": [
    "%run ../init_notebook.py\n",
    "from satpy import Scene\n",
    "from glob import glob\n",
    "\n",
    "filenames = glob('../data/abi_l1b/20180511_texas_fire_abi_l1b_conus/*.nc')\n",
    "scn = Scene(reader='abi_l1b', filenames=filenames)\n",
    "scn.available_composite_names()"
   ]
  },
  {
   "cell_type": "code",
   "execution_count": 14,
   "id": "240e4997",
   "metadata": {},
   "outputs": [
    {
     "data": {
      "text/plain": [
       "[]"
      ]
     },
     "execution_count": 14,
     "metadata": {},
     "output_type": "execute_result"
    }
   ],
   "source": [
    "#filenames = glob('./*.nc')\n",
    "filenames = glob('./../SAT_DATA/TC_NOV_2021_L1_SENTINAL/*.nc')\n",
    "len(filenames)\n",
    "filenames"
   ]
  },
  {
   "cell_type": "code",
   "execution_count": null,
   "id": "512e5eb3",
   "metadata": {},
   "outputs": [],
   "source": [
    "scn = Scene(reader='slstr_l1b', filenames=filenames)\n",
    "scn.available_composite_names()"
   ]
  },
  {
   "cell_type": "code",
   "execution_count": null,
   "id": "4b067bc7",
   "metadata": {},
   "outputs": [],
   "source": [
    "'natural_color' in scn"
   ]
  },
  {
   "cell_type": "code",
   "execution_count": null,
   "id": "c50fdfb5",
   "metadata": {},
   "outputs": [],
   "source": []
  }
 ],
 "metadata": {
  "kernelspec": {
   "display_name": "Python 3 (ipykernel)",
   "language": "python",
   "name": "python3"
  },
  "language_info": {
   "codemirror_mode": {
    "name": "ipython",
    "version": 3
   },
   "file_extension": ".py",
   "mimetype": "text/x-python",
   "name": "python",
   "nbconvert_exporter": "python",
   "pygments_lexer": "ipython3",
   "version": "3.10.2"
  }
 },
 "nbformat": 4,
 "nbformat_minor": 5
}
