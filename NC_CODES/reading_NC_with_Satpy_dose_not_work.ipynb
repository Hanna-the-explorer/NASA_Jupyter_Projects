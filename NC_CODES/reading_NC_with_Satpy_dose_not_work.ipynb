{
 "cells": [
  {
   "cell_type": "code",
   "execution_count": 89,
   "id": "299883fe",
   "metadata": {},
   "outputs": [],
   "source": [
    "from satpy import Scene\n",
    "from glob import glob"
   ]
  },
  {
   "cell_type": "code",
   "execution_count": 95,
   "id": "aec560c8",
   "metadata": {},
   "outputs": [
    {
     "name": "stderr",
     "output_type": "stream",
     "text": [
      "No filenames found for reader: slstr_l1b\n",
      "Don't know how to open the following files: {'../SAT_DATA/TC_NOV_2021_L1_SENTINAL\\\\Oa16_radiance.nc', '../SAT_DATA/TC_NOV_2021_L1_SENTINAL\\\\Oa14_radiance.nc', '../SAT_DATA/TC_NOV_2021_L1_SENTINAL\\\\Oa03_radiance.nc', '../SAT_DATA/TC_NOV_2021_L1_SENTINAL\\\\tie_geometries.nc', '../SAT_DATA/TC_NOV_2021_L1_SENTINAL\\\\time_coordinates.nc', '../SAT_DATA/TC_NOV_2021_L1_SENTINAL\\\\Oa21_radiance.nc', '../SAT_DATA/TC_NOV_2021_L1_SENTINAL\\\\Oa15_radiance.nc', '../SAT_DATA/TC_NOV_2021_L1_SENTINAL\\\\Oa17_radiance.nc', '../SAT_DATA/TC_NOV_2021_L1_SENTINAL\\\\tie_geo_coordinates.nc', '../SAT_DATA/TC_NOV_2021_L1_SENTINAL\\\\Oa01_radiance.nc', '../SAT_DATA/TC_NOV_2021_L1_SENTINAL\\\\Oa05_radiance.nc', '../SAT_DATA/TC_NOV_2021_L1_SENTINAL\\\\Oa08_radiance.nc', '../SAT_DATA/TC_NOV_2021_L1_SENTINAL\\\\Oa09_radiance.nc', '../SAT_DATA/TC_NOV_2021_L1_SENTINAL\\\\Oa19_radiance.nc', '../SAT_DATA/TC_NOV_2021_L1_SENTINAL\\\\Oa20_radiance.nc', '../SAT_DATA/TC_NOV_2021_L1_SENTINAL\\\\Oa07_radiance.nc', '../SAT_DATA/TC_NOV_2021_L1_SENTINAL\\\\Oa18_radiance.nc', '../SAT_DATA/TC_NOV_2021_L1_SENTINAL\\\\Oa04_radiance.nc', '../SAT_DATA/TC_NOV_2021_L1_SENTINAL\\\\tie_meteo.nc', '../SAT_DATA/TC_NOV_2021_L1_SENTINAL\\\\Oa02_radiance.nc', '../SAT_DATA/TC_NOV_2021_L1_SENTINAL\\\\Oa10_radiance.nc', '../SAT_DATA/TC_NOV_2021_L1_SENTINAL\\\\geo_coordinates.nc', '../SAT_DATA/TC_NOV_2021_L1_SENTINAL\\\\Oa11_radiance.nc', '../SAT_DATA/TC_NOV_2021_L1_SENTINAL\\\\instrument_data.nc', '../SAT_DATA/TC_NOV_2021_L1_SENTINAL\\\\Oa06_radiance.nc', '../SAT_DATA/TC_NOV_2021_L1_SENTINAL\\\\removed_pixels.nc', '../SAT_DATA/TC_NOV_2021_L1_SENTINAL\\\\Oa12_radiance.nc', '../SAT_DATA/TC_NOV_2021_L1_SENTINAL\\\\Oa13_radiance.nc', '../SAT_DATA/TC_NOV_2021_L1_SENTINAL\\\\qualityFlags.nc'}\n"
     ]
    },
    {
     "ename": "ValueError",
     "evalue": "No supported files found",
     "output_type": "error",
     "traceback": [
      "\u001b[1;31m---------------------------------------------------------------------------\u001b[0m",
      "\u001b[1;31mValueError\u001b[0m                                Traceback (most recent call last)",
      "Input \u001b[1;32mIn [95]\u001b[0m, in \u001b[0;36m<module>\u001b[1;34m\u001b[0m\n\u001b[0;32m      1\u001b[0m filenames \u001b[38;5;241m=\u001b[39m glob(\u001b[38;5;124m'\u001b[39m\u001b[38;5;124m../SAT_DATA/TC_NOV_2021_L1_SENTINAL/*.nc\u001b[39m\u001b[38;5;124m'\u001b[39m)\n\u001b[0;32m      2\u001b[0m filenames\n\u001b[1;32m----> 3\u001b[0m scn \u001b[38;5;241m=\u001b[39m \u001b[43mScene\u001b[49m\u001b[43m(\u001b[49m\u001b[43mreader\u001b[49m\u001b[38;5;241;43m=\u001b[39;49m\u001b[38;5;124;43m'\u001b[39;49m\u001b[38;5;124;43mslstr_l1b\u001b[39;49m\u001b[38;5;124;43m'\u001b[39;49m\u001b[43m,\u001b[49m\u001b[43m \u001b[49m\u001b[43mfilenames\u001b[49m\u001b[38;5;241;43m=\u001b[39;49m\u001b[43mfilenames\u001b[49m\u001b[43m)\u001b[49m\n\u001b[0;32m      4\u001b[0m scn\u001b[38;5;241m.\u001b[39mavailable_composite_names()\n",
      "File \u001b[1;32m~\\miniconda3\\envs\\Bugs\\lib\\site-packages\\satpy\\scene.py:106\u001b[0m, in \u001b[0;36mScene.__init__\u001b[1;34m(self, filenames, reader, filter_parameters, reader_kwargs)\u001b[0m\n\u001b[0;32m    103\u001b[0m \u001b[38;5;28;01mif\u001b[39;00m filenames \u001b[38;5;129;01mand\u001b[39;00m \u001b[38;5;28misinstance\u001b[39m(filenames, \u001b[38;5;28mstr\u001b[39m):\n\u001b[0;32m    104\u001b[0m     \u001b[38;5;28;01mraise\u001b[39;00m \u001b[38;5;167;01mValueError\u001b[39;00m(\u001b[38;5;124m\"\u001b[39m\u001b[38;5;124m'\u001b[39m\u001b[38;5;124mfilenames\u001b[39m\u001b[38;5;124m'\u001b[39m\u001b[38;5;124m must be a list of files: Scene(filenames=[filename])\u001b[39m\u001b[38;5;124m\"\u001b[39m)\n\u001b[1;32m--> 106\u001b[0m \u001b[38;5;28mself\u001b[39m\u001b[38;5;241m.\u001b[39m_readers \u001b[38;5;241m=\u001b[39m \u001b[38;5;28;43mself\u001b[39;49m\u001b[38;5;241;43m.\u001b[39;49m\u001b[43m_create_reader_instances\u001b[49m\u001b[43m(\u001b[49m\u001b[43mfilenames\u001b[49m\u001b[38;5;241;43m=\u001b[39;49m\u001b[43mfilenames\u001b[49m\u001b[43m,\u001b[49m\n\u001b[0;32m    107\u001b[0m \u001b[43m                                              \u001b[49m\u001b[43mreader\u001b[49m\u001b[38;5;241;43m=\u001b[39;49m\u001b[43mreader\u001b[49m\u001b[43m,\u001b[49m\n\u001b[0;32m    108\u001b[0m \u001b[43m                                              \u001b[49m\u001b[43mreader_kwargs\u001b[49m\u001b[38;5;241;43m=\u001b[39;49m\u001b[43mreader_kwargs\u001b[49m\u001b[43m)\u001b[49m\n\u001b[0;32m    109\u001b[0m \u001b[38;5;28mself\u001b[39m\u001b[38;5;241m.\u001b[39m_datasets \u001b[38;5;241m=\u001b[39m DatasetDict()\n\u001b[0;32m    110\u001b[0m \u001b[38;5;28mself\u001b[39m\u001b[38;5;241m.\u001b[39m_wishlist \u001b[38;5;241m=\u001b[39m \u001b[38;5;28mset\u001b[39m()\n",
      "File \u001b[1;32m~\\miniconda3\\envs\\Bugs\\lib\\site-packages\\satpy\\scene.py:127\u001b[0m, in \u001b[0;36mScene._create_reader_instances\u001b[1;34m(self, filenames, reader, reader_kwargs)\u001b[0m\n\u001b[0;32m    122\u001b[0m \u001b[38;5;28;01mdef\u001b[39;00m \u001b[38;5;21m_create_reader_instances\u001b[39m(\u001b[38;5;28mself\u001b[39m,\n\u001b[0;32m    123\u001b[0m                              filenames\u001b[38;5;241m=\u001b[39m\u001b[38;5;28;01mNone\u001b[39;00m,\n\u001b[0;32m    124\u001b[0m                              reader\u001b[38;5;241m=\u001b[39m\u001b[38;5;28;01mNone\u001b[39;00m,\n\u001b[0;32m    125\u001b[0m                              reader_kwargs\u001b[38;5;241m=\u001b[39m\u001b[38;5;28;01mNone\u001b[39;00m):\n\u001b[0;32m    126\u001b[0m     \u001b[38;5;124;03m\"\"\"Find readers and return their instances.\"\"\"\u001b[39;00m\n\u001b[1;32m--> 127\u001b[0m     \u001b[38;5;28;01mreturn\u001b[39;00m \u001b[43mload_readers\u001b[49m\u001b[43m(\u001b[49m\u001b[43mfilenames\u001b[49m\u001b[38;5;241;43m=\u001b[39;49m\u001b[43mfilenames\u001b[49m\u001b[43m,\u001b[49m\n\u001b[0;32m    128\u001b[0m \u001b[43m                        \u001b[49m\u001b[43mreader\u001b[49m\u001b[38;5;241;43m=\u001b[39;49m\u001b[43mreader\u001b[49m\u001b[43m,\u001b[49m\n\u001b[0;32m    129\u001b[0m \u001b[43m                        \u001b[49m\u001b[43mreader_kwargs\u001b[49m\u001b[38;5;241;43m=\u001b[39;49m\u001b[43mreader_kwargs\u001b[49m\u001b[43m)\u001b[49m\n",
      "File \u001b[1;32m~\\miniconda3\\envs\\Bugs\\lib\\site-packages\\satpy\\readers\\__init__.py:578\u001b[0m, in \u001b[0;36mload_readers\u001b[1;34m(filenames, reader, reader_kwargs)\u001b[0m\n\u001b[0;32m    575\u001b[0m         \u001b[38;5;28;01mbreak\u001b[39;00m\n\u001b[0;32m    577\u001b[0m _check_remaining_files(remaining_filenames)\n\u001b[1;32m--> 578\u001b[0m \u001b[43m_check_reader_instances\u001b[49m\u001b[43m(\u001b[49m\u001b[43mreader_instances\u001b[49m\u001b[43m)\u001b[49m\n\u001b[0;32m    579\u001b[0m \u001b[38;5;28;01mreturn\u001b[39;00m reader_instances\n",
      "File \u001b[1;32m~\\miniconda3\\envs\\Bugs\\lib\\site-packages\\satpy\\readers\\__init__.py:617\u001b[0m, in \u001b[0;36m_check_reader_instances\u001b[1;34m(reader_instances)\u001b[0m\n\u001b[0;32m    615\u001b[0m \u001b[38;5;28;01mdef\u001b[39;00m \u001b[38;5;21m_check_reader_instances\u001b[39m(reader_instances):\n\u001b[0;32m    616\u001b[0m     \u001b[38;5;28;01mif\u001b[39;00m \u001b[38;5;129;01mnot\u001b[39;00m reader_instances:\n\u001b[1;32m--> 617\u001b[0m         \u001b[38;5;28;01mraise\u001b[39;00m \u001b[38;5;167;01mValueError\u001b[39;00m(\u001b[38;5;124m\"\u001b[39m\u001b[38;5;124mNo supported files found\u001b[39m\u001b[38;5;124m\"\u001b[39m)\n\u001b[0;32m    618\u001b[0m     \u001b[38;5;28;01mif\u001b[39;00m \u001b[38;5;129;01mnot\u001b[39;00m \u001b[38;5;28many\u001b[39m(\u001b[38;5;28mlist\u001b[39m(r\u001b[38;5;241m.\u001b[39mavailable_dataset_ids) \u001b[38;5;28;01mfor\u001b[39;00m r \u001b[38;5;129;01min\u001b[39;00m reader_instances\u001b[38;5;241m.\u001b[39mvalues()):\n\u001b[0;32m    619\u001b[0m         \u001b[38;5;28;01mraise\u001b[39;00m \u001b[38;5;167;01mValueError\u001b[39;00m(\u001b[38;5;124m\"\u001b[39m\u001b[38;5;124mNo dataset could be loaded. Either missing \u001b[39m\u001b[38;5;124m\"\u001b[39m\n\u001b[0;32m    620\u001b[0m                          \u001b[38;5;124m\"\u001b[39m\u001b[38;5;124mrequirements (such as Epilog, Prolog) or none of the \u001b[39m\u001b[38;5;124m\"\u001b[39m\n\u001b[0;32m    621\u001b[0m                          \u001b[38;5;124m\"\u001b[39m\u001b[38;5;124mprovided files match the filter parameters.\u001b[39m\u001b[38;5;124m\"\u001b[39m)\n",
      "\u001b[1;31mValueError\u001b[0m: No supported files found"
     ]
    }
   ],
   "source": [
    "filenames = glob('../SAT_DATA/TC_NOV_2021_L1_SENTINAL/*.nc')\n",
    "filenames\n",
    "scn = Scene(reader='slstr_l1b', filenames=filenames)\n",
    "scn.available_composite_names()"
   ]
  },
  {
   "cell_type": "code",
   "execution_count": null,
   "id": "34ed7524",
   "metadata": {},
   "outputs": [],
   "source": [
    "scn.load(['natural_color'])"
   ]
  },
  {
   "cell_type": "code",
   "execution_count": null,
   "id": "27c532cb",
   "metadata": {},
   "outputs": [],
   "source": [
    "'natural_color' in scn"
   ]
  },
  {
   "cell_type": "code",
   "execution_count": null,
   "id": "407713d7",
   "metadata": {},
   "outputs": [],
   "source": [
    "scn.missing_datasets "
   ]
  },
  {
   "cell_type": "code",
   "execution_count": null,
   "id": "6c6a9024",
   "metadata": {},
   "outputs": [],
   "source": [
    "new_scn = scn.resample(scn.min_area(), resampler='native')\n",
    "new_scn['natural_color']"
   ]
  },
  {
   "cell_type": "code",
   "execution_count": null,
   "id": "b3c15d46",
   "metadata": {},
   "outputs": [],
   "source": [
    "with ProgressBar():\n",
    "    plt.figure()\n",
    "    img = get_enhanced_image(new_scn['natural_color'])\n",
    "    # get DataArray out of `XRImage` object\n",
    "    img_data = img.data\n",
    "    img_data.plot.imshow(vmin=0, vmax=1, rgb='bands')"
   ]
  },
  {
   "cell_type": "code",
   "execution_count": null,
   "id": "7f3e13ca",
   "metadata": {},
   "outputs": [],
   "source": [
    "filenames = glob('../data/abi_l1b/20180511_texas_fire_abi_l1b_conus/*.nc')\n",
    "scn = Scene(reader='slstr_l1b', filenames=filenames)\n",
    "scn.available_dataset_names()"
   ]
  },
  {
   "cell_type": "code",
   "execution_count": null,
   "id": "e40f02c0",
   "metadata": {},
   "outputs": [],
   "source": [
    "r_band = 'C16'\n",
    "g_band = 'C16'\n",
    "b_band = 'C16'\n",
    "scn.load([r_band, g_band, b_band])"
   ]
  },
  {
   "cell_type": "code",
   "execution_count": null,
   "id": "c4453577",
   "metadata": {},
   "outputs": [],
   "source": [
    "from satpy.composites import GenericCompositor\n",
    "comp = GenericCompositor('my_rgb')\n",
    "my_rgb = comp((scn[r_band], scn[g_band], scn[b_band]))"
   ]
  },
  {
   "cell_type": "code",
   "execution_count": null,
   "id": "bdfe4f52",
   "metadata": {},
   "outputs": [],
   "source": [
    "new_scn = scn.resample(resampler='native')\n",
    "my_rgb = comp((new_scn[r_band], new_scn[g_band], new_scn[b_band]))\n",
    "my_rgb"
   ]
  },
  {
   "cell_type": "code",
   "execution_count": null,
   "id": "78f3890d",
   "metadata": {},
   "outputs": [],
   "source": [
    "plt.figure()\n",
    "img = get_enhanced_image(my_rgb)\n",
    "# get DataArray out of `XRImage` object\n",
    "img_data = img.data\n",
    "img_data.plot.imshow(vmin=0, vmax=1, rgb='bands')"
   ]
  }
 ],
 "metadata": {
  "kernelspec": {
   "display_name": "Python 3 (ipykernel)",
   "language": "python",
   "name": "python3"
  },
  "language_info": {
   "codemirror_mode": {
    "name": "ipython",
    "version": 3
   },
   "file_extension": ".py",
   "mimetype": "text/x-python",
   "name": "python",
   "nbconvert_exporter": "python",
   "pygments_lexer": "ipython3",
   "version": "3.10.2"
  }
 },
 "nbformat": 4,
 "nbformat_minor": 5
}
