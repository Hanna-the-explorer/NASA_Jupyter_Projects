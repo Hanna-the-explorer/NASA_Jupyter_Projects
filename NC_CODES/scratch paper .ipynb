{
 "cells": [
  {
   "cell_type": "code",
   "execution_count": 1,
   "id": "19125abd",
   "metadata": {},
   "outputs": [],
   "source": [
    "from glob import glob\n",
    "import xarray as xr\n",
    "import pandas as pd\n",
    "import numpy as np\n",
    "from pyresample import geometry, create_area_def\n",
    "from satpy import Scene\n",
    "import satpy"
   ]
  },
  {
   "cell_type": "code",
   "execution_count": 2,
   "id": "e1f3bf71",
   "metadata": {},
   "outputs": [
    {
     "data": {
      "text/plain": [
       "-0.8811690513654926"
      ]
     },
     "execution_count": 2,
     "metadata": {},
     "output_type": "execute_result"
    }
   ],
   "source": [
    "alpha0 = -.0537\n",
    "beta0 = -.2689\n",
    "gamma0 = .1017\n",
    "delta0 = -.2097\n",
    "epsilon0 = -.0893\n",
    "zeta0 = -3.6853\n",
    "    \n",
    "x = (alpha0 * np.log(0.004243) +\n",
    "     beta0 * np.log(0.005299) +\n",
    "     gamma0 * np.log(0.00571) +\n",
    "     delta0 * np.log(0.005379) +\n",
    "     epsilon0 * np.log(0.002607) + zeta0)\n",
    "x\n"
   ]
  },
  {
   "cell_type": "code",
   "execution_count": 3,
   "id": "1f7b2752",
   "metadata": {},
   "outputs": [
    {
     "data": {
      "text/plain": [
       "-1.1745044804408091"
      ]
     },
     "execution_count": 3,
     "metadata": {},
     "output_type": "execute_result"
    }
   ],
   "source": [
    "alpha0 = -.0537\n",
    "beta0 = -.2689\n",
    "gamma0 = .1017\n",
    "delta0 = -.2097\n",
    "epsilon0 = -.0893\n",
    "zeta0 = -3.6853\n",
    "\n",
    "x = (beta0 * np.log(0.005299) +\n",
    "     gamma0 * np.log(0.00571) +\n",
    "     delta0 * np.log(0.005379) +\n",
    "     epsilon0 * np.log(0.002607) + zeta0)\n",
    "x"
   ]
  },
  {
   "cell_type": "code",
   "execution_count": 4,
   "id": "e2982af8",
   "metadata": {},
   "outputs": [
    {
     "name": "stdout",
     "output_type": "stream",
     "text": [
      "[11.32657428]\n"
     ]
    },
    {
     "name": "stderr",
     "output_type": "stream",
     "text": [
      "C:\\Users\\12532\\miniconda3\\envs\\Bugs\\lib\\site-packages\\scipy\\optimize\\_minpack_py.py:175: RuntimeWarning: The number of calls to function has reached maxfev = 400.\n",
      "  warnings.warn(msg, RuntimeWarning)\n"
     ]
    }
   ],
   "source": [
    "import scipy.optimize\n",
    "\n",
    "def fun(x):\n",
    "    y = np.exp((x + 1.1745044804408091) / -.0537)\n",
    "    return y\n",
    "\n",
    "f = scipy.optimize.fsolve(fun, -3.5)\n",
    "print (f)"
   ]
  },
  {
   "cell_type": "code",
   "execution_count": 32,
   "id": "21229627",
   "metadata": {},
   "outputs": [
    {
     "name": "stdout",
     "output_type": "stream",
     "text": [
      "-0.8811690513654926\n",
      "[-1.30484253]\n"
     ]
    }
   ],
   "source": [
    "y = (alpha0 * np.log(0.004243) +\n",
    "     beta0 * np.log(0.005299) +\n",
    "     gamma0 * np.log(0.00571) +\n",
    "     delta0 * np.log(0.005379) +\n",
    "     epsilon0 * np.log(0.002607) + zeta0)\n",
    "print(y)\n",
    "\n",
    "\n",
    "z = (alpha0 * np.log(x) +\n",
    "     beta0 * np.log(0.005299) +\n",
    "     gamma0 * np.log(0.00571) +\n",
    "     delta0 * np.log(0.005379) +\n",
    "     epsilon0 * np.log(0.002607) + zeta0)\n",
    "print(z)"
   ]
  },
  {
   "cell_type": "code",
   "execution_count": null,
   "id": "12d674f9",
   "metadata": {},
   "outputs": [],
   "source": [
    "from sympy import symbols, Eq, solve\n",
    "\n",
    "x = (beta0 * np.log(0.005299) +\n",
    "     gamma0 * np.log(0.00571) +\n",
    "     delta0 * np.log(0.005379) +\n",
    "     epsilon0 * np.log(0.002607) + zeta0)\n",
    "\n",
    "y = symbols('y')\n",
    "eq1 = (-.0537 * np.log(y) + -1.1745044804408091) \n",
    "\n",
    "sol = solve(eq1)\n",
    "sol[-3.5]"
   ]
  }
 ],
 "metadata": {
  "kernelspec": {
   "display_name": "Python 3 (ipykernel)",
   "language": "python",
   "name": "python3"
  },
  "language_info": {
   "codemirror_mode": {
    "name": "ipython",
    "version": 3
   },
   "file_extension": ".py",
   "mimetype": "text/x-python",
   "name": "python",
   "nbconvert_exporter": "python",
   "pygments_lexer": "ipython3",
   "version": "3.10.2"
  }
 },
 "nbformat": 4,
 "nbformat_minor": 5
}
